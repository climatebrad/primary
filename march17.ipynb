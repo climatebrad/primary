{
 "cells": [
  {
   "cell_type": "markdown",
   "metadata": {},
   "source": [
    "## Arizona"
   ]
  },
  {
   "cell_type": "markdown",
   "metadata": {},
   "source": [
    "https://fivethirtyeight.com/features/biden-won-tuesdays-primaries-as-voters-embraced-voting-by-mail/\n",
    "Even under normal circumstances, around 80 percent of Arizonans cast their ballots via mail, which means results can take several days to be finalized. \n",
    "https://www.azcleanelections.gov/how-to-vote/early-voting/ballot-by-mail\n",
    "\"Approximately 80% of Arizona voters choose to receive their ballot in the mail.\"\n",
    "https://www.usatoday.com/story/news/politics/elections/2020/03/19/coronavirus-effect-how-much-did-democratic-primary-turnout-hurt/2864013001/\n",
    "In Arizona, 531,316 people overall voted in the Democratic primary, an increase of 13.5% over the 468,461 who voted in 2016.  More than 380,000 in Arizona voted early."
   ]
  },
  {
   "cell_type": "markdown",
   "metadata": {},
   "source": [
    "## Illinois"
   ]
  },
  {
   "cell_type": "markdown",
   "metadata": {},
   "source": [
    "https://www.nytimes.com/2020/03/17/us/politics/primary-voter-turnout-2020.html\n",
    "overall turnout  in Illinois was less than half what it was in the 2016 primary."
   ]
  },
  {
   "cell_type": "markdown",
   "metadata": {},
   "source": [
    "## Florida"
   ]
  },
  {
   "cell_type": "markdown",
   "metadata": {},
   "source": [
    "https://www.usatoday.com/story/news/politics/elections/2020/03/19/coronavirus-effect-how-much-did-democratic-primary-turnout-hurt/2864013001/\n",
    "In Florida, 1.75 million people overall voted in the Democratic primary, a 1.5% increase over the 1.70 million who voted in 2016. That included just about 600,000 Floridians who voted in the Democratic Primary in person on Tuesday, compared with around 1 million Election Day voters in 2016. \n",
    "\n",
    "Making up for the low turnout on Election Day: 693,219 people already voted by mail in Florida and another 438,949 voted early – significantly more than the state's 489,648 vote-by-mail ballots in 2016 and 243,983 early voters. "
   ]
  },
  {
   "cell_type": "code",
   "execution_count": 11,
   "metadata": {},
   "outputs": [],
   "source": [
    "import pandas as pd\n",
    "from datetime import datetime"
   ]
  },
  {
   "cell_type": "markdown",
   "metadata": {},
   "source": [
    "## Import zipcode data"
   ]
  },
  {
   "cell_type": "code",
   "execution_count": 3,
   "metadata": {},
   "outputs": [],
   "source": [
    "zipcodes = pd.read_csv('../geo/zipcodes.csv',dtype={'zip_code': str})"
   ]
  },
  {
   "cell_type": "code",
   "execution_count": 4,
   "metadata": {},
   "outputs": [
    {
     "data": {
      "text/html": [
       "<div>\n",
       "<style scoped>\n",
       "    .dataframe tbody tr th:only-of-type {\n",
       "        vertical-align: middle;\n",
       "    }\n",
       "\n",
       "    .dataframe tbody tr th {\n",
       "        vertical-align: top;\n",
       "    }\n",
       "\n",
       "    .dataframe thead th {\n",
       "        text-align: right;\n",
       "    }\n",
       "</style>\n",
       "<table border=\"1\" class=\"dataframe\">\n",
       "  <thead>\n",
       "    <tr style=\"text-align: right;\">\n",
       "      <th></th>\n",
       "      <th>zip_code</th>\n",
       "      <th>latitude</th>\n",
       "      <th>longitude</th>\n",
       "      <th>city</th>\n",
       "      <th>state</th>\n",
       "      <th>county</th>\n",
       "    </tr>\n",
       "  </thead>\n",
       "  <tbody>\n",
       "    <tr>\n",
       "      <th>0</th>\n",
       "      <td>00501</td>\n",
       "      <td>40.922326</td>\n",
       "      <td>-72.637078</td>\n",
       "      <td>Holtsville</td>\n",
       "      <td>NY</td>\n",
       "      <td>Suffolk</td>\n",
       "    </tr>\n",
       "    <tr>\n",
       "      <th>1</th>\n",
       "      <td>00544</td>\n",
       "      <td>40.922326</td>\n",
       "      <td>-72.637078</td>\n",
       "      <td>Holtsville</td>\n",
       "      <td>NY</td>\n",
       "      <td>Suffolk</td>\n",
       "    </tr>\n",
       "    <tr>\n",
       "      <th>2</th>\n",
       "      <td>00601</td>\n",
       "      <td>18.165273</td>\n",
       "      <td>-66.722583</td>\n",
       "      <td>Adjuntas</td>\n",
       "      <td>PR</td>\n",
       "      <td>Adjuntas</td>\n",
       "    </tr>\n",
       "    <tr>\n",
       "      <th>3</th>\n",
       "      <td>00602</td>\n",
       "      <td>18.393103</td>\n",
       "      <td>-67.180953</td>\n",
       "      <td>Aguada</td>\n",
       "      <td>PR</td>\n",
       "      <td>Aguada</td>\n",
       "    </tr>\n",
       "    <tr>\n",
       "      <th>4</th>\n",
       "      <td>00603</td>\n",
       "      <td>18.455913</td>\n",
       "      <td>-67.145780</td>\n",
       "      <td>Aguadilla</td>\n",
       "      <td>PR</td>\n",
       "      <td>Aguadilla</td>\n",
       "    </tr>\n",
       "    <tr>\n",
       "      <th>...</th>\n",
       "      <td>...</td>\n",
       "      <td>...</td>\n",
       "      <td>...</td>\n",
       "      <td>...</td>\n",
       "      <td>...</td>\n",
       "      <td>...</td>\n",
       "    </tr>\n",
       "    <tr>\n",
       "      <th>42044</th>\n",
       "      <td>99926</td>\n",
       "      <td>55.094325</td>\n",
       "      <td>-131.566827</td>\n",
       "      <td>Metlakatla</td>\n",
       "      <td>AK</td>\n",
       "      <td>Prince Wales Ketchikan</td>\n",
       "    </tr>\n",
       "    <tr>\n",
       "      <th>42045</th>\n",
       "      <td>99927</td>\n",
       "      <td>55.517921</td>\n",
       "      <td>-132.003244</td>\n",
       "      <td>Point Baker</td>\n",
       "      <td>AK</td>\n",
       "      <td>Prince Wales Ketchikan</td>\n",
       "    </tr>\n",
       "    <tr>\n",
       "      <th>42046</th>\n",
       "      <td>99928</td>\n",
       "      <td>55.395359</td>\n",
       "      <td>-131.675370</td>\n",
       "      <td>Ward Cove</td>\n",
       "      <td>AK</td>\n",
       "      <td>Ketchikan Gateway</td>\n",
       "    </tr>\n",
       "    <tr>\n",
       "      <th>42047</th>\n",
       "      <td>99929</td>\n",
       "      <td>56.449893</td>\n",
       "      <td>-132.364407</td>\n",
       "      <td>Wrangell</td>\n",
       "      <td>AK</td>\n",
       "      <td>Wrangell Petersburg</td>\n",
       "    </tr>\n",
       "    <tr>\n",
       "      <th>42048</th>\n",
       "      <td>99950</td>\n",
       "      <td>55.542007</td>\n",
       "      <td>-131.432682</td>\n",
       "      <td>Ketchikan</td>\n",
       "      <td>AK</td>\n",
       "      <td>Ketchikan Gateway</td>\n",
       "    </tr>\n",
       "  </tbody>\n",
       "</table>\n",
       "<p>42049 rows × 6 columns</p>\n",
       "</div>"
      ],
      "text/plain": [
       "      zip_code   latitude   longitude         city state  \\\n",
       "0        00501  40.922326  -72.637078   Holtsville    NY   \n",
       "1        00544  40.922326  -72.637078   Holtsville    NY   \n",
       "2        00601  18.165273  -66.722583     Adjuntas    PR   \n",
       "3        00602  18.393103  -67.180953       Aguada    PR   \n",
       "4        00603  18.455913  -67.145780    Aguadilla    PR   \n",
       "...        ...        ...         ...          ...   ...   \n",
       "42044    99926  55.094325 -131.566827   Metlakatla    AK   \n",
       "42045    99927  55.517921 -132.003244  Point Baker    AK   \n",
       "42046    99928  55.395359 -131.675370    Ward Cove    AK   \n",
       "42047    99929  56.449893 -132.364407     Wrangell    AK   \n",
       "42048    99950  55.542007 -131.432682    Ketchikan    AK   \n",
       "\n",
       "                       county  \n",
       "0                     Suffolk  \n",
       "1                     Suffolk  \n",
       "2                    Adjuntas  \n",
       "3                      Aguada  \n",
       "4                   Aguadilla  \n",
       "...                       ...  \n",
       "42044  Prince Wales Ketchikan  \n",
       "42045  Prince Wales Ketchikan  \n",
       "42046       Ketchikan Gateway  \n",
       "42047     Wrangell Petersburg  \n",
       "42048       Ketchikan Gateway  \n",
       "\n",
       "[42049 rows x 6 columns]"
      ]
     },
     "execution_count": 4,
     "metadata": {},
     "output_type": "execute_result"
    }
   ],
   "source": [
    "zipcodes"
   ]
  },
  {
   "cell_type": "markdown",
   "metadata": {},
   "source": [
    "## March 17 states"
   ]
  },
  {
   "cell_type": "code",
   "execution_count": 5,
   "metadata": {},
   "outputs": [],
   "source": [
    "m17_states = {'IL' : 'Illinois', \n",
    "             'FL' : 'Florida',\n",
    "             'AZ' : 'Arizona'\n",
    "            }"
   ]
  },
  {
   "cell_type": "code",
   "execution_count": 6,
   "metadata": {},
   "outputs": [
    {
     "data": {
      "text/html": [
       "<div>\n",
       "<style scoped>\n",
       "    .dataframe tbody tr th:only-of-type {\n",
       "        vertical-align: middle;\n",
       "    }\n",
       "\n",
       "    .dataframe tbody tr th {\n",
       "        vertical-align: top;\n",
       "    }\n",
       "\n",
       "    .dataframe thead th {\n",
       "        text-align: right;\n",
       "    }\n",
       "</style>\n",
       "<table border=\"1\" class=\"dataframe\">\n",
       "  <thead>\n",
       "    <tr style=\"text-align: right;\">\n",
       "      <th></th>\n",
       "      <th>zip_code</th>\n",
       "      <th>latitude</th>\n",
       "      <th>longitude</th>\n",
       "      <th>city</th>\n",
       "      <th>state</th>\n",
       "      <th>county</th>\n",
       "    </tr>\n",
       "  </thead>\n",
       "  <tbody>\n",
       "    <tr>\n",
       "      <th>12248</th>\n",
       "      <td>85364</td>\n",
       "      <td>32.615305</td>\n",
       "      <td>-114.648722</td>\n",
       "      <td>Yuma</td>\n",
       "      <td>AZ</td>\n",
       "      <td>Yuma</td>\n",
       "    </tr>\n",
       "    <tr>\n",
       "      <th>12665</th>\n",
       "      <td>85365</td>\n",
       "      <td>32.709332</td>\n",
       "      <td>-114.490471</td>\n",
       "      <td>Yuma</td>\n",
       "      <td>AZ</td>\n",
       "      <td>Yuma</td>\n",
       "    </tr>\n",
       "    <tr>\n",
       "      <th>13466</th>\n",
       "      <td>32004</td>\n",
       "      <td>29.937673</td>\n",
       "      <td>-81.420603</td>\n",
       "      <td>Ponte Vedra Beach</td>\n",
       "      <td>FL</td>\n",
       "      <td>Saint Johns</td>\n",
       "    </tr>\n",
       "    <tr>\n",
       "      <th>13467</th>\n",
       "      <td>32007</td>\n",
       "      <td>29.799631</td>\n",
       "      <td>-81.627324</td>\n",
       "      <td>Bostwick</td>\n",
       "      <td>FL</td>\n",
       "      <td>Putnam</td>\n",
       "    </tr>\n",
       "    <tr>\n",
       "      <th>13468</th>\n",
       "      <td>32008</td>\n",
       "      <td>30.101927</td>\n",
       "      <td>-82.908004</td>\n",
       "      <td>Branford</td>\n",
       "      <td>FL</td>\n",
       "      <td>Suwannee</td>\n",
       "    </tr>\n",
       "    <tr>\n",
       "      <th>...</th>\n",
       "      <td>...</td>\n",
       "      <td>...</td>\n",
       "      <td>...</td>\n",
       "      <td>...</td>\n",
       "      <td>...</td>\n",
       "      <td>...</td>\n",
       "    </tr>\n",
       "    <tr>\n",
       "      <th>37018</th>\n",
       "      <td>86544</td>\n",
       "      <td>35.237487</td>\n",
       "      <td>-109.522950</td>\n",
       "      <td>Red Valley</td>\n",
       "      <td>AZ</td>\n",
       "      <td>Apache</td>\n",
       "    </tr>\n",
       "    <tr>\n",
       "      <th>37019</th>\n",
       "      <td>86545</td>\n",
       "      <td>35.237487</td>\n",
       "      <td>-109.522950</td>\n",
       "      <td>Rock Point</td>\n",
       "      <td>AZ</td>\n",
       "      <td>Apache</td>\n",
       "    </tr>\n",
       "    <tr>\n",
       "      <th>37020</th>\n",
       "      <td>86547</td>\n",
       "      <td>35.237487</td>\n",
       "      <td>-109.522950</td>\n",
       "      <td>Round Rock</td>\n",
       "      <td>AZ</td>\n",
       "      <td>Apache</td>\n",
       "    </tr>\n",
       "    <tr>\n",
       "      <th>37021</th>\n",
       "      <td>86549</td>\n",
       "      <td>35.237487</td>\n",
       "      <td>-109.522950</td>\n",
       "      <td>Sawmill</td>\n",
       "      <td>AZ</td>\n",
       "      <td>Apache</td>\n",
       "    </tr>\n",
       "    <tr>\n",
       "      <th>37022</th>\n",
       "      <td>86556</td>\n",
       "      <td>35.237487</td>\n",
       "      <td>-109.522950</td>\n",
       "      <td>Tsaile</td>\n",
       "      <td>AZ</td>\n",
       "      <td>Apache</td>\n",
       "    </tr>\n",
       "  </tbody>\n",
       "</table>\n",
       "<p>3548 rows × 6 columns</p>\n",
       "</div>"
      ],
      "text/plain": [
       "      zip_code   latitude   longitude               city state       county\n",
       "12248    85364  32.615305 -114.648722               Yuma    AZ         Yuma\n",
       "12665    85365  32.709332 -114.490471               Yuma    AZ         Yuma\n",
       "13466    32004  29.937673  -81.420603  Ponte Vedra Beach    FL  Saint Johns\n",
       "13467    32007  29.799631  -81.627324           Bostwick    FL       Putnam\n",
       "13468    32008  30.101927  -82.908004           Branford    FL     Suwannee\n",
       "...        ...        ...         ...                ...   ...          ...\n",
       "37018    86544  35.237487 -109.522950         Red Valley    AZ       Apache\n",
       "37019    86545  35.237487 -109.522950         Rock Point    AZ       Apache\n",
       "37020    86547  35.237487 -109.522950         Round Rock    AZ       Apache\n",
       "37021    86549  35.237487 -109.522950            Sawmill    AZ       Apache\n",
       "37022    86556  35.237487 -109.522950             Tsaile    AZ       Apache\n",
       "\n",
       "[3548 rows x 6 columns]"
      ]
     },
     "execution_count": 6,
     "metadata": {},
     "output_type": "execute_result"
    }
   ],
   "source": [
    "zipcodes[zipcodes.state.isin(m17_states)]"
   ]
  },
  {
   "cell_type": "markdown",
   "metadata": {},
   "source": [
    "## Load March 17 county-level voting results from New York Times"
   ]
  },
  {
   "cell_type": "code",
   "execution_count": 7,
   "metadata": {},
   "outputs": [],
   "source": [
    "def url_format(string):\n",
    "    return string.lower().replace(' ','-')"
   ]
  },
  {
   "cell_type": "code",
   "execution_count": 40,
   "metadata": {},
   "outputs": [
    {
     "data": {
      "text/html": [
       "<div>\n",
       "<style scoped>\n",
       "    .dataframe tbody tr th:only-of-type {\n",
       "        vertical-align: middle;\n",
       "    }\n",
       "\n",
       "    .dataframe tbody tr th {\n",
       "        vertical-align: top;\n",
       "    }\n",
       "\n",
       "    .dataframe thead th {\n",
       "        text-align: right;\n",
       "    }\n",
       "</style>\n",
       "<table border=\"1\" class=\"dataframe\">\n",
       "  <thead>\n",
       "    <tr style=\"text-align: right;\">\n",
       "      <th></th>\n",
       "      <th>fips</th>\n",
       "      <th>name</th>\n",
       "      <th>votes</th>\n",
       "      <th>reporting</th>\n",
       "      <th>precincts</th>\n",
       "      <th>results</th>\n",
       "    </tr>\n",
       "  </thead>\n",
       "  <tbody>\n",
       "    <tr>\n",
       "      <th>0</th>\n",
       "      <td>04001</td>\n",
       "      <td>Apache</td>\n",
       "      <td>5069</td>\n",
       "      <td>44</td>\n",
       "      <td>44</td>\n",
       "      <td>{'bidenj': 2482, 'sandersb': 2064, 'warrene': ...</td>\n",
       "    </tr>\n",
       "    <tr>\n",
       "      <th>1</th>\n",
       "      <td>04003</td>\n",
       "      <td>Cochise</td>\n",
       "      <td>8042</td>\n",
       "      <td>49</td>\n",
       "      <td>49</td>\n",
       "      <td>{'bidenj': 4060, 'sandersb': 2624, 'warrene': ...</td>\n",
       "    </tr>\n",
       "    <tr>\n",
       "      <th>2</th>\n",
       "      <td>04005</td>\n",
       "      <td>Coconino</td>\n",
       "      <td>15336</td>\n",
       "      <td>71</td>\n",
       "      <td>71</td>\n",
       "      <td>{'bidenj': 6279, 'sandersb': 7068, 'warrene': ...</td>\n",
       "    </tr>\n",
       "    <tr>\n",
       "      <th>3</th>\n",
       "      <td>04007</td>\n",
       "      <td>Gila</td>\n",
       "      <td>2730</td>\n",
       "      <td>39</td>\n",
       "      <td>39</td>\n",
       "      <td>{'bidenj': 1562, 'sandersb': 705, 'warrene': 1...</td>\n",
       "    </tr>\n",
       "    <tr>\n",
       "      <th>4</th>\n",
       "      <td>04009</td>\n",
       "      <td>Graham</td>\n",
       "      <td>1364</td>\n",
       "      <td>22</td>\n",
       "      <td>22</td>\n",
       "      <td>{'bidenj': 774, 'sandersb': 420, 'warrene': 70...</td>\n",
       "    </tr>\n",
       "    <tr>\n",
       "      <th>5</th>\n",
       "      <td>04011</td>\n",
       "      <td>Greenlee</td>\n",
       "      <td>542</td>\n",
       "      <td>8</td>\n",
       "      <td>8</td>\n",
       "      <td>{'bidenj': 316, 'sandersb': 138, 'buttigiegp':...</td>\n",
       "    </tr>\n",
       "    <tr>\n",
       "      <th>6</th>\n",
       "      <td>04012</td>\n",
       "      <td>La Paz</td>\n",
       "      <td>513</td>\n",
       "      <td>11</td>\n",
       "      <td>11</td>\n",
       "      <td>{'bidenj': 272, 'sandersb': 170, 'warrene': 27...</td>\n",
       "    </tr>\n",
       "    <tr>\n",
       "      <th>7</th>\n",
       "      <td>04013</td>\n",
       "      <td>Maricopa</td>\n",
       "      <td>354919</td>\n",
       "      <td>743</td>\n",
       "      <td>743</td>\n",
       "      <td>{'bidenj': 152772, 'sandersb': 118924, 'bloomb...</td>\n",
       "    </tr>\n",
       "    <tr>\n",
       "      <th>8</th>\n",
       "      <td>04015</td>\n",
       "      <td>Mohave</td>\n",
       "      <td>9216</td>\n",
       "      <td>24</td>\n",
       "      <td>24</td>\n",
       "      <td>{'bidenj': 4425, 'sandersb': 2097, 'bloombergm...</td>\n",
       "    </tr>\n",
       "    <tr>\n",
       "      <th>9</th>\n",
       "      <td>04017</td>\n",
       "      <td>Navajo</td>\n",
       "      <td>5806</td>\n",
       "      <td>14</td>\n",
       "      <td>14</td>\n",
       "      <td>{'bidenj': 2947, 'sandersb': 2176, 'warrene': ...</td>\n",
       "    </tr>\n",
       "    <tr>\n",
       "      <th>10</th>\n",
       "      <td>04019</td>\n",
       "      <td>Pima</td>\n",
       "      <td>130923</td>\n",
       "      <td>141</td>\n",
       "      <td>141</td>\n",
       "      <td>{'bidenj': 59624, 'sandersb': 41420, 'bloomber...</td>\n",
       "    </tr>\n",
       "    <tr>\n",
       "      <th>11</th>\n",
       "      <td>04021</td>\n",
       "      <td>Pinal</td>\n",
       "      <td>25459</td>\n",
       "      <td>102</td>\n",
       "      <td>102</td>\n",
       "      <td>{'bidenj': 12412, 'sandersb': 6638, 'bloomberg...</td>\n",
       "    </tr>\n",
       "    <tr>\n",
       "      <th>12</th>\n",
       "      <td>04023</td>\n",
       "      <td>Santa Cruz</td>\n",
       "      <td>4302</td>\n",
       "      <td>24</td>\n",
       "      <td>24</td>\n",
       "      <td>{'bidenj': 1714, 'sandersb': 1437, 'bloombergm...</td>\n",
       "    </tr>\n",
       "    <tr>\n",
       "      <th>13</th>\n",
       "      <td>04025</td>\n",
       "      <td>Yavapai</td>\n",
       "      <td>15144</td>\n",
       "      <td>45</td>\n",
       "      <td>45</td>\n",
       "      <td>{'bidenj': 8115, 'sandersb': 4546, 'warrene': ...</td>\n",
       "    </tr>\n",
       "    <tr>\n",
       "      <th>14</th>\n",
       "      <td>04027</td>\n",
       "      <td>Yuma</td>\n",
       "      <td>7954</td>\n",
       "      <td>44</td>\n",
       "      <td>44</td>\n",
       "      <td>{'bidenj': 2854, 'sandersb': 3021, 'bloombergm...</td>\n",
       "    </tr>\n",
       "  </tbody>\n",
       "</table>\n",
       "</div>"
      ],
      "text/plain": [
       "     fips        name   votes  reporting  precincts  \\\n",
       "0   04001      Apache    5069         44         44   \n",
       "1   04003     Cochise    8042         49         49   \n",
       "2   04005    Coconino   15336         71         71   \n",
       "3   04007        Gila    2730         39         39   \n",
       "4   04009      Graham    1364         22         22   \n",
       "5   04011    Greenlee     542          8          8   \n",
       "6   04012      La Paz     513         11         11   \n",
       "7   04013    Maricopa  354919        743        743   \n",
       "8   04015      Mohave    9216         24         24   \n",
       "9   04017      Navajo    5806         14         14   \n",
       "10  04019        Pima  130923        141        141   \n",
       "11  04021       Pinal   25459        102        102   \n",
       "12  04023  Santa Cruz    4302         24         24   \n",
       "13  04025     Yavapai   15144         45         45   \n",
       "14  04027        Yuma    7954         44         44   \n",
       "\n",
       "                                              results  \n",
       "0   {'bidenj': 2482, 'sandersb': 2064, 'warrene': ...  \n",
       "1   {'bidenj': 4060, 'sandersb': 2624, 'warrene': ...  \n",
       "2   {'bidenj': 6279, 'sandersb': 7068, 'warrene': ...  \n",
       "3   {'bidenj': 1562, 'sandersb': 705, 'warrene': 1...  \n",
       "4   {'bidenj': 774, 'sandersb': 420, 'warrene': 70...  \n",
       "5   {'bidenj': 316, 'sandersb': 138, 'buttigiegp':...  \n",
       "6   {'bidenj': 272, 'sandersb': 170, 'warrene': 27...  \n",
       "7   {'bidenj': 152772, 'sandersb': 118924, 'bloomb...  \n",
       "8   {'bidenj': 4425, 'sandersb': 2097, 'bloombergm...  \n",
       "9   {'bidenj': 2947, 'sandersb': 2176, 'warrene': ...  \n",
       "10  {'bidenj': 59624, 'sandersb': 41420, 'bloomber...  \n",
       "11  {'bidenj': 12412, 'sandersb': 6638, 'bloomberg...  \n",
       "12  {'bidenj': 1714, 'sandersb': 1437, 'bloombergm...  \n",
       "13  {'bidenj': 8115, 'sandersb': 4546, 'warrene': ...  \n",
       "14  {'bidenj': 2854, 'sandersb': 3021, 'bloombergm...  "
      ]
     },
     "execution_count": 40,
     "metadata": {},
     "output_type": "execute_result"
    }
   ],
   "source": [
    "url = 'https://int.nyt.com/applications/elections/2020/data/api/2020-03-17/arizona/president/democrat.json'\n",
    "x =pd.read_json(url)\n",
    "y = pd.DataFrame(x.data.races[0]['counties'])\n",
    "y"
   ]
  },
  {
   "cell_type": "code",
   "execution_count": 13,
   "metadata": {},
   "outputs": [],
   "source": [
    "state_dfs = {}\n",
    "state_counties = {}\n",
    "now = datetime.now()\n",
    "timestamp = now.strftime(\"%Y%m%d-%H%M\")\n",
    "m17 = [url_format(s) for s in m17_states.values()]\n",
    "for abbr in m17_states:\n",
    "    state = url_format(m17_states[abbr])\n",
    "    url = f'https://www.nytimes.com/interactive/2020/03/17/us/elections/results-{state}-president-democrat-primary-election.html'\n",
    "    state_dfs[abbr] = pd.read_html(url)\n",
    "    state_counties[abbr] = state_dfs[abbr][1].iloc[:-1]\n",
    "    state_counties[abbr].to_csv(f'../primary/2020-dem-primary-results/{abbr.lower()}-county-{timestamp}.csv')"
   ]
  },
  {
   "cell_type": "code",
   "execution_count": 15,
   "metadata": {},
   "outputs": [],
   "source": [
    "(pd.concat(state_counties, sort=True)\n",
    " .reset_index()\n",
    " .rename(columns={'level_0':'state'})\n",
    " .drop(columns=['level_1'])\n",
    " .to_csv('../primary/2020-dem-primary-results/march_17_full.csv', index=False))"
   ]
  },
  {
   "cell_type": "markdown",
   "metadata": {},
   "source": [
    "## Add column with percent of Sanders vote"
   ]
  },
  {
   "cell_type": "code",
   "execution_count": 18,
   "metadata": {},
   "outputs": [],
   "source": [
    "def sanders_pct(state):\n",
    "    df = state_counties[state]\n",
    "    return df.Sanders.astype(int) / df[['Sanders','Biden','Bloomberg']].astype(int).sum(axis=1)"
   ]
  },
  {
   "cell_type": "code",
   "execution_count": 19,
   "metadata": {},
   "outputs": [
    {
     "name": "stderr",
     "output_type": "stream",
     "text": [
      "/usr/local/anaconda3/lib/python3.7/site-packages/ipykernel_launcher.py:2: SettingWithCopyWarning: \n",
      "A value is trying to be set on a copy of a slice from a DataFrame.\n",
      "Try using .loc[row_indexer,col_indexer] = value instead\n",
      "\n",
      "See the caveats in the documentation: http://pandas.pydata.org/pandas-docs/stable/user_guide/indexing.html#returning-a-view-versus-a-copy\n",
      "  \n"
     ]
    },
    {
     "ename": "KeyError",
     "evalue": "\"['Bloomberg'] not in index\"",
     "output_type": "error",
     "traceback": [
      "\u001b[0;31m---------------------------------------------------------------------------\u001b[0m",
      "\u001b[0;31mKeyError\u001b[0m                                  Traceback (most recent call last)",
      "\u001b[0;32m<ipython-input-19-c8d92546112d>\u001b[0m in \u001b[0;36m<module>\u001b[0;34m\u001b[0m\n\u001b[1;32m      1\u001b[0m \u001b[0;32mfor\u001b[0m \u001b[0mabbr\u001b[0m \u001b[0;32min\u001b[0m \u001b[0mm17_states\u001b[0m\u001b[0;34m:\u001b[0m\u001b[0;34m\u001b[0m\u001b[0;34m\u001b[0m\u001b[0m\n\u001b[0;32m----> 2\u001b[0;31m     \u001b[0mstate_counties\u001b[0m\u001b[0;34m[\u001b[0m\u001b[0mabbr\u001b[0m\u001b[0;34m]\u001b[0m\u001b[0;34m[\u001b[0m\u001b[0;34m'sanders_pct'\u001b[0m\u001b[0;34m]\u001b[0m \u001b[0;34m=\u001b[0m \u001b[0msanders_pct\u001b[0m\u001b[0;34m(\u001b[0m\u001b[0mabbr\u001b[0m\u001b[0;34m)\u001b[0m\u001b[0;34m\u001b[0m\u001b[0;34m\u001b[0m\u001b[0m\n\u001b[0m",
      "\u001b[0;32m<ipython-input-18-ea45f1f40708>\u001b[0m in \u001b[0;36msanders_pct\u001b[0;34m(state)\u001b[0m\n\u001b[1;32m      1\u001b[0m \u001b[0;32mdef\u001b[0m \u001b[0msanders_pct\u001b[0m\u001b[0;34m(\u001b[0m\u001b[0mstate\u001b[0m\u001b[0;34m)\u001b[0m\u001b[0;34m:\u001b[0m\u001b[0;34m\u001b[0m\u001b[0;34m\u001b[0m\u001b[0m\n\u001b[1;32m      2\u001b[0m     \u001b[0mdf\u001b[0m \u001b[0;34m=\u001b[0m \u001b[0mstate_counties\u001b[0m\u001b[0;34m[\u001b[0m\u001b[0mstate\u001b[0m\u001b[0;34m]\u001b[0m\u001b[0;34m\u001b[0m\u001b[0;34m\u001b[0m\u001b[0m\n\u001b[0;32m----> 3\u001b[0;31m     \u001b[0;32mreturn\u001b[0m \u001b[0mdf\u001b[0m\u001b[0;34m.\u001b[0m\u001b[0mSanders\u001b[0m\u001b[0;34m.\u001b[0m\u001b[0mastype\u001b[0m\u001b[0;34m(\u001b[0m\u001b[0mint\u001b[0m\u001b[0;34m)\u001b[0m \u001b[0;34m/\u001b[0m \u001b[0mdf\u001b[0m\u001b[0;34m[\u001b[0m\u001b[0;34m[\u001b[0m\u001b[0;34m'Sanders'\u001b[0m\u001b[0;34m,\u001b[0m\u001b[0;34m'Biden'\u001b[0m\u001b[0;34m,\u001b[0m\u001b[0;34m'Bloomberg'\u001b[0m\u001b[0;34m]\u001b[0m\u001b[0;34m]\u001b[0m\u001b[0;34m.\u001b[0m\u001b[0mastype\u001b[0m\u001b[0;34m(\u001b[0m\u001b[0mint\u001b[0m\u001b[0;34m)\u001b[0m\u001b[0;34m.\u001b[0m\u001b[0msum\u001b[0m\u001b[0;34m(\u001b[0m\u001b[0maxis\u001b[0m\u001b[0;34m=\u001b[0m\u001b[0;36m1\u001b[0m\u001b[0;34m)\u001b[0m\u001b[0;34m\u001b[0m\u001b[0;34m\u001b[0m\u001b[0m\n\u001b[0m",
      "\u001b[0;32m/usr/local/anaconda3/lib/python3.7/site-packages/pandas/core/frame.py\u001b[0m in \u001b[0;36m__getitem__\u001b[0;34m(self, key)\u001b[0m\n\u001b[1;32m   2999\u001b[0m             \u001b[0;32mif\u001b[0m \u001b[0mis_iterator\u001b[0m\u001b[0;34m(\u001b[0m\u001b[0mkey\u001b[0m\u001b[0;34m)\u001b[0m\u001b[0;34m:\u001b[0m\u001b[0;34m\u001b[0m\u001b[0;34m\u001b[0m\u001b[0m\n\u001b[1;32m   3000\u001b[0m                 \u001b[0mkey\u001b[0m \u001b[0;34m=\u001b[0m \u001b[0mlist\u001b[0m\u001b[0;34m(\u001b[0m\u001b[0mkey\u001b[0m\u001b[0;34m)\u001b[0m\u001b[0;34m\u001b[0m\u001b[0;34m\u001b[0m\u001b[0m\n\u001b[0;32m-> 3001\u001b[0;31m             \u001b[0mindexer\u001b[0m \u001b[0;34m=\u001b[0m \u001b[0mself\u001b[0m\u001b[0;34m.\u001b[0m\u001b[0mloc\u001b[0m\u001b[0;34m.\u001b[0m\u001b[0m_convert_to_indexer\u001b[0m\u001b[0;34m(\u001b[0m\u001b[0mkey\u001b[0m\u001b[0;34m,\u001b[0m \u001b[0maxis\u001b[0m\u001b[0;34m=\u001b[0m\u001b[0;36m1\u001b[0m\u001b[0;34m,\u001b[0m \u001b[0mraise_missing\u001b[0m\u001b[0;34m=\u001b[0m\u001b[0;32mTrue\u001b[0m\u001b[0;34m)\u001b[0m\u001b[0;34m\u001b[0m\u001b[0;34m\u001b[0m\u001b[0m\n\u001b[0m\u001b[1;32m   3002\u001b[0m \u001b[0;34m\u001b[0m\u001b[0m\n\u001b[1;32m   3003\u001b[0m         \u001b[0;31m# take() does not accept boolean indexers\u001b[0m\u001b[0;34m\u001b[0m\u001b[0;34m\u001b[0m\u001b[0;34m\u001b[0m\u001b[0m\n",
      "\u001b[0;32m/usr/local/anaconda3/lib/python3.7/site-packages/pandas/core/indexing.py\u001b[0m in \u001b[0;36m_convert_to_indexer\u001b[0;34m(self, obj, axis, is_setter, raise_missing)\u001b[0m\n\u001b[1;32m   1283\u001b[0m                 \u001b[0;31m# When setting, missing keys are not allowed, even with .loc:\u001b[0m\u001b[0;34m\u001b[0m\u001b[0;34m\u001b[0m\u001b[0;34m\u001b[0m\u001b[0m\n\u001b[1;32m   1284\u001b[0m                 \u001b[0mkwargs\u001b[0m \u001b[0;34m=\u001b[0m \u001b[0;34m{\u001b[0m\u001b[0;34m\"raise_missing\"\u001b[0m\u001b[0;34m:\u001b[0m \u001b[0;32mTrue\u001b[0m \u001b[0;32mif\u001b[0m \u001b[0mis_setter\u001b[0m \u001b[0;32melse\u001b[0m \u001b[0mraise_missing\u001b[0m\u001b[0;34m}\u001b[0m\u001b[0;34m\u001b[0m\u001b[0;34m\u001b[0m\u001b[0m\n\u001b[0;32m-> 1285\u001b[0;31m                 \u001b[0;32mreturn\u001b[0m \u001b[0mself\u001b[0m\u001b[0;34m.\u001b[0m\u001b[0m_get_listlike_indexer\u001b[0m\u001b[0;34m(\u001b[0m\u001b[0mobj\u001b[0m\u001b[0;34m,\u001b[0m \u001b[0maxis\u001b[0m\u001b[0;34m,\u001b[0m \u001b[0;34m**\u001b[0m\u001b[0mkwargs\u001b[0m\u001b[0;34m)\u001b[0m\u001b[0;34m[\u001b[0m\u001b[0;36m1\u001b[0m\u001b[0;34m]\u001b[0m\u001b[0;34m\u001b[0m\u001b[0;34m\u001b[0m\u001b[0m\n\u001b[0m\u001b[1;32m   1286\u001b[0m         \u001b[0;32melse\u001b[0m\u001b[0;34m:\u001b[0m\u001b[0;34m\u001b[0m\u001b[0;34m\u001b[0m\u001b[0m\n\u001b[1;32m   1287\u001b[0m             \u001b[0;32mtry\u001b[0m\u001b[0;34m:\u001b[0m\u001b[0;34m\u001b[0m\u001b[0;34m\u001b[0m\u001b[0m\n",
      "\u001b[0;32m/usr/local/anaconda3/lib/python3.7/site-packages/pandas/core/indexing.py\u001b[0m in \u001b[0;36m_get_listlike_indexer\u001b[0;34m(self, key, axis, raise_missing)\u001b[0m\n\u001b[1;32m   1090\u001b[0m \u001b[0;34m\u001b[0m\u001b[0m\n\u001b[1;32m   1091\u001b[0m         self._validate_read_indexer(\n\u001b[0;32m-> 1092\u001b[0;31m             \u001b[0mkeyarr\u001b[0m\u001b[0;34m,\u001b[0m \u001b[0mindexer\u001b[0m\u001b[0;34m,\u001b[0m \u001b[0mo\u001b[0m\u001b[0;34m.\u001b[0m\u001b[0m_get_axis_number\u001b[0m\u001b[0;34m(\u001b[0m\u001b[0maxis\u001b[0m\u001b[0;34m)\u001b[0m\u001b[0;34m,\u001b[0m \u001b[0mraise_missing\u001b[0m\u001b[0;34m=\u001b[0m\u001b[0mraise_missing\u001b[0m\u001b[0;34m\u001b[0m\u001b[0;34m\u001b[0m\u001b[0m\n\u001b[0m\u001b[1;32m   1093\u001b[0m         )\n\u001b[1;32m   1094\u001b[0m         \u001b[0;32mreturn\u001b[0m \u001b[0mkeyarr\u001b[0m\u001b[0;34m,\u001b[0m \u001b[0mindexer\u001b[0m\u001b[0;34m\u001b[0m\u001b[0;34m\u001b[0m\u001b[0m\n",
      "\u001b[0;32m/usr/local/anaconda3/lib/python3.7/site-packages/pandas/core/indexing.py\u001b[0m in \u001b[0;36m_validate_read_indexer\u001b[0;34m(self, key, indexer, axis, raise_missing)\u001b[0m\n\u001b[1;32m   1183\u001b[0m             \u001b[0;32mif\u001b[0m \u001b[0;32mnot\u001b[0m \u001b[0;34m(\u001b[0m\u001b[0mself\u001b[0m\u001b[0;34m.\u001b[0m\u001b[0mname\u001b[0m \u001b[0;34m==\u001b[0m \u001b[0;34m\"loc\"\u001b[0m \u001b[0;32mand\u001b[0m \u001b[0;32mnot\u001b[0m \u001b[0mraise_missing\u001b[0m\u001b[0;34m)\u001b[0m\u001b[0;34m:\u001b[0m\u001b[0;34m\u001b[0m\u001b[0;34m\u001b[0m\u001b[0m\n\u001b[1;32m   1184\u001b[0m                 \u001b[0mnot_found\u001b[0m \u001b[0;34m=\u001b[0m \u001b[0mlist\u001b[0m\u001b[0;34m(\u001b[0m\u001b[0mset\u001b[0m\u001b[0;34m(\u001b[0m\u001b[0mkey\u001b[0m\u001b[0;34m)\u001b[0m \u001b[0;34m-\u001b[0m \u001b[0mset\u001b[0m\u001b[0;34m(\u001b[0m\u001b[0max\u001b[0m\u001b[0;34m)\u001b[0m\u001b[0;34m)\u001b[0m\u001b[0;34m\u001b[0m\u001b[0;34m\u001b[0m\u001b[0m\n\u001b[0;32m-> 1185\u001b[0;31m                 \u001b[0;32mraise\u001b[0m \u001b[0mKeyError\u001b[0m\u001b[0;34m(\u001b[0m\u001b[0;34m\"{} not in index\"\u001b[0m\u001b[0;34m.\u001b[0m\u001b[0mformat\u001b[0m\u001b[0;34m(\u001b[0m\u001b[0mnot_found\u001b[0m\u001b[0;34m)\u001b[0m\u001b[0;34m)\u001b[0m\u001b[0;34m\u001b[0m\u001b[0;34m\u001b[0m\u001b[0m\n\u001b[0m\u001b[1;32m   1186\u001b[0m \u001b[0;34m\u001b[0m\u001b[0m\n\u001b[1;32m   1187\u001b[0m             \u001b[0;31m# we skip the warning on Categorical/Interval\u001b[0m\u001b[0;34m\u001b[0m\u001b[0;34m\u001b[0m\u001b[0;34m\u001b[0m\u001b[0m\n",
      "\u001b[0;31mKeyError\u001b[0m: \"['Bloomberg'] not in index\""
     ]
    }
   ],
   "source": [
    "for abbr in m17_states:\n",
    "    state_counties[abbr]['sanders_pct'] = sanders_pct(abbr)"
   ]
  },
  {
   "cell_type": "markdown",
   "metadata": {},
   "source": [
    "## Concatenate into one dataframe"
   ]
  },
  {
   "cell_type": "code",
   "execution_count": 408,
   "metadata": {},
   "outputs": [],
   "source": [
    "st_full = pd.concat([state_counties_full[abbr] for abbr in st_states], sort=True)"
   ]
  },
  {
   "cell_type": "code",
   "execution_count": 82,
   "metadata": {},
   "outputs": [],
   "source": [
    "daily_cases = pd.read_html('https://en.wikipedia.org/wiki/Template:2019%E2%80%9320_coronavirus_pandemic_data/United_States_medical_cases')[0]\n",
    "daily_cases.columns = daily_cases.columns.droplevel()"
   ]
  },
  {
   "cell_type": "code",
   "execution_count": 83,
   "metadata": {},
   "outputs": [],
   "source": [
    "daily_cases = daily_cases.set_index('Date').drop(index=['State Sources','Total']).iloc[:-1].fillna(0).astype('int')"
   ]
  },
  {
   "cell_type": "code",
   "execution_count": 84,
   "metadata": {},
   "outputs": [
    {
     "data": {
      "text/plain": [
       "<matplotlib.axes._subplots.AxesSubplot at 0x11ab3def0>"
      ]
     },
     "execution_count": 84,
     "metadata": {},
     "output_type": "execute_result"
    },
    {
     "data": {
      "image/png": "[encoded data removed]",
      "text/plain": [
       "<Figure size 432x288 with 1 Axes>"
      ]
     },
     "metadata": {
      "needs_background": "light"
     },
     "output_type": "display_data"
    }
   ],
   "source": [
    "daily_cases[['OH','IL','AZ','FL']].plot()"
   ]
  },
  {
   "cell_type": "code",
   "execution_count": null,
   "metadata": {},
   "outputs": [],
   "source": []
  }
 ],
 "metadata": {
  "kernelspec": {
   "display_name": "Python 3",
   "language": "python",
   "name": "python3"
  },
  "language_info": {
   "codemirror_mode": {
    "name": "ipython",
    "version": 3
   },
   "file_extension": ".py",
   "mimetype": "text/x-python",
   "name": "python",
   "nbconvert_exporter": "python",
   "pygments_lexer": "ipython3",
   "version": "3.7.3"
  }
 },
 "nbformat": 4,
 "nbformat_minor": 4
}
