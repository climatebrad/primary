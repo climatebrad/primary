{
 "cells": [
  {
   "cell_type": "markdown",
   "metadata": {},
   "source": [
    "Thanks to [Tom Augspurger](https://github.com/TomAugspurger/idp-results/blob/master/idb.ipynb) and [Andrew Therriault](https://github.com/therriault/useful_code_public/blob/master/Iowa%20Caucus%20Results%20Analysis.ipynb)\n",
    "\n",
    "Delegate selection rules are from the [Iowa Delegate Selection Plan](https://acc99235-748f-4706-80f5-4b87384c1fb7.filesusr.com/ugd/5af8f4_2618217ea4384df5822b5eb004672c84.pdf) and the [DNC 2020 Delegate Selection Rules](https://democrats.org/wp-content/uploads/2019/01/2020-Delegate-Selection-Rules-12.17.18-FINAL.pdf)\n",
    "\n",
    "The Green Papers has a [full precise methodology](https://www.thegreenpapers.com/P20/IA-D) of the delegate allocation procedure [math explained here](https://www.thegreenpapers.com/P20/D-Math.phtml)."
   ]
  },
  {
   "cell_type": "code",
   "execution_count": 71,
   "metadata": {},
   "outputs": [],
   "source": [
    "import pandas as pd\n",
    "import state\n",
    "import importlib\n",
    "importlib.reload(state)\n",
    "from state import Iowa"
   ]
  },
  {
   "cell_type": "code",
   "execution_count": 33,
   "metadata": {},
   "outputs": [],
   "source": [
    "from state import allocate_delegates"
   ]
  },
  {
   "cell_type": "code",
   "execution_count": 72,
   "metadata": {},
   "outputs": [],
   "source": [
    "ia = Iowa()"
   ]
  },
  {
   "cell_type": "code",
   "execution_count": 4,
   "metadata": {},
   "outputs": [
    {
     "data": {
      "text/html": [
       "<div>\n",
       "<style scoped>\n",
       "    .dataframe tbody tr th:only-of-type {\n",
       "        vertical-align: middle;\n",
       "    }\n",
       "\n",
       "    .dataframe tbody tr th {\n",
       "        vertical-align: top;\n",
       "    }\n",
       "\n",
       "    .dataframe thead th {\n",
       "        text-align: right;\n",
       "    }\n",
       "</style>\n",
       "<table border=\"1\" class=\"dataframe\">\n",
       "  <thead>\n",
       "    <tr style=\"text-align: right;\">\n",
       "      <th></th>\n",
       "      <th>First</th>\n",
       "      <th>%</th>\n",
       "      <th>Final</th>\n",
       "      <th>%</th>\n",
       "      <th>Total S.D.E.s</th>\n",
       "      <th>%</th>\n",
       "    </tr>\n",
       "    <tr>\n",
       "      <th>candidate</th>\n",
       "      <th></th>\n",
       "      <th></th>\n",
       "      <th></th>\n",
       "      <th></th>\n",
       "      <th></th>\n",
       "      <th></th>\n",
       "    </tr>\n",
       "  </thead>\n",
       "  <tbody>\n",
       "    <tr>\n",
       "      <th>Sanders</th>\n",
       "      <td>43699</td>\n",
       "      <td>24.7</td>\n",
       "      <td>45842</td>\n",
       "      <td>26.5</td>\n",
       "      <td>561</td>\n",
       "      <td>26.1</td>\n",
       "    </tr>\n",
       "    <tr>\n",
       "      <th>Buttigieg</th>\n",
       "      <td>37596</td>\n",
       "      <td>21.3</td>\n",
       "      <td>43274</td>\n",
       "      <td>25.1</td>\n",
       "      <td>564</td>\n",
       "      <td>26.2</td>\n",
       "    </tr>\n",
       "    <tr>\n",
       "      <th>Warren</th>\n",
       "      <td>32611</td>\n",
       "      <td>18.5</td>\n",
       "      <td>34934</td>\n",
       "      <td>20.2</td>\n",
       "      <td>388</td>\n",
       "      <td>18.1</td>\n",
       "    </tr>\n",
       "    <tr>\n",
       "      <th>Biden</th>\n",
       "      <td>26322</td>\n",
       "      <td>14.9</td>\n",
       "      <td>23630</td>\n",
       "      <td>13.7</td>\n",
       "      <td>339</td>\n",
       "      <td>15.8</td>\n",
       "    </tr>\n",
       "    <tr>\n",
       "      <th>Klobuchar</th>\n",
       "      <td>22474</td>\n",
       "      <td>12.7</td>\n",
       "      <td>21121</td>\n",
       "      <td>12.2</td>\n",
       "      <td>263</td>\n",
       "      <td>12.3</td>\n",
       "    </tr>\n",
       "    <tr>\n",
       "      <th>Yang</th>\n",
       "      <td>8929</td>\n",
       "      <td>5.1</td>\n",
       "      <td>1759</td>\n",
       "      <td>1.0</td>\n",
       "      <td>21</td>\n",
       "      <td>1.0</td>\n",
       "    </tr>\n",
       "    <tr>\n",
       "      <th>Uncommitted</th>\n",
       "      <td>1000</td>\n",
       "      <td>0.6</td>\n",
       "      <td>1451</td>\n",
       "      <td>0.8</td>\n",
       "      <td>3</td>\n",
       "      <td>0.2</td>\n",
       "    </tr>\n",
       "    <tr>\n",
       "      <th>Steyer</th>\n",
       "      <td>3054</td>\n",
       "      <td>1.7</td>\n",
       "      <td>413</td>\n",
       "      <td>0.2</td>\n",
       "      <td>6</td>\n",
       "      <td>0.3</td>\n",
       "    </tr>\n",
       "    <tr>\n",
       "      <th>Other</th>\n",
       "      <td>159</td>\n",
       "      <td>0.1</td>\n",
       "      <td>205</td>\n",
       "      <td>0.1</td>\n",
       "      <td>0</td>\n",
       "      <td>0.0</td>\n",
       "    </tr>\n",
       "    <tr>\n",
       "      <th>Bloomberg</th>\n",
       "      <td>215</td>\n",
       "      <td>0.1</td>\n",
       "      <td>20</td>\n",
       "      <td>0.0</td>\n",
       "      <td>0</td>\n",
       "      <td>0.0</td>\n",
       "    </tr>\n",
       "    <tr>\n",
       "      <th>Gabbard</th>\n",
       "      <td>342</td>\n",
       "      <td>0.2</td>\n",
       "      <td>16</td>\n",
       "      <td>0.0</td>\n",
       "      <td>0</td>\n",
       "      <td>0.0</td>\n",
       "    </tr>\n",
       "    <tr>\n",
       "      <th>Bennet</th>\n",
       "      <td>164</td>\n",
       "      <td>0.1</td>\n",
       "      <td>4</td>\n",
       "      <td>0.0</td>\n",
       "      <td>0</td>\n",
       "      <td>0.0</td>\n",
       "    </tr>\n",
       "    <tr>\n",
       "      <th>Delaney</th>\n",
       "      <td>0</td>\n",
       "      <td>0.0</td>\n",
       "      <td>0</td>\n",
       "      <td>0.0</td>\n",
       "      <td>0</td>\n",
       "      <td>0.0</td>\n",
       "    </tr>\n",
       "    <tr>\n",
       "      <th>Patrick</th>\n",
       "      <td>9</td>\n",
       "      <td>0.0</td>\n",
       "      <td>0</td>\n",
       "      <td>0.0</td>\n",
       "      <td>0</td>\n",
       "      <td>0.0</td>\n",
       "    </tr>\n",
       "  </tbody>\n",
       "</table>\n",
       "</div>"
      ],
      "text/plain": [
       "             First     %  Final     %  Total S.D.E.s     %\n",
       "candidate                                                 \n",
       "Sanders      43699  24.7  45842  26.5            561  26.1\n",
       "Buttigieg    37596  21.3  43274  25.1            564  26.2\n",
       "Warren       32611  18.5  34934  20.2            388  18.1\n",
       "Biden        26322  14.9  23630  13.7            339  15.8\n",
       "Klobuchar    22474  12.7  21121  12.2            263  12.3\n",
       "Yang          8929   5.1   1759   1.0             21   1.0\n",
       "Uncommitted   1000   0.6   1451   0.8              3   0.2\n",
       "Steyer        3054   1.7    413   0.2              6   0.3\n",
       "Other          159   0.1    205   0.1              0   0.0\n",
       "Bloomberg      215   0.1     20   0.0              0   0.0\n",
       "Gabbard        342   0.2     16   0.0              0   0.0\n",
       "Bennet         164   0.1      4   0.0              0   0.0\n",
       "Delaney          0   0.0      0   0.0              0   0.0\n",
       "Patrick          9   0.0      0   0.0              0   0.0"
      ]
     },
     "execution_count": 4,
     "metadata": {},
     "output_type": "execute_result"
    }
   ],
   "source": [
    "ia.display_results()"
   ]
  },
  {
   "cell_type": "code",
   "execution_count": 5,
   "metadata": {},
   "outputs": [
    {
     "data": {
      "text/plain": [
       "candidate\n",
       "Buttigieg      564.3024\n",
       "Sanders        561.5283\n",
       "Warren         388.4803\n",
       "Biden          339.6782\n",
       "Klobuchar      263.8834\n",
       "Yang            21.8559\n",
       "Steyer           6.6189\n",
       "Uncommitted      3.7321\n",
       "Other            0.6931\n",
       "Bloomberg        0.2096\n",
       "Gabbard          0.1143\n",
       "Patrick          0.0000\n",
       "Delaney          0.0000\n",
       "Bennet           0.0000\n",
       "dtype: float64"
      ]
     },
     "execution_count": 5,
     "metadata": {},
     "output_type": "execute_result"
    }
   ],
   "source": [
    "ia.sdes"
   ]
  },
  {
   "cell_type": "markdown",
   "metadata": {},
   "source": [
    "## Delegates"
   ]
  },
  {
   "cell_type": "markdown",
   "metadata": {},
   "source": [
    "### State-level delegates"
   ]
  },
  {
   "cell_type": "markdown",
   "metadata": {},
   "source": [
    "Iowa is allotted 5 pledged Party Leader and Elected Official (PLEO) delegates. The pledged PLEO slots shall be allocated among presidential preferences on\n",
    "the same basis as the at-large delegates. The state of Iowa is allotted 9 at-large delegates.  The 9 at-large delegates will be nominated with an apportionment based on the division of presidential preference from the caucuses.  Preferences which have not attained a 15% threshold on a state-wide basis\n",
    "shall not be entitled to any at-large delegates."
   ]
  },
  {
   "cell_type": "code",
   "execution_count": 82,
   "metadata": {},
   "outputs": [
    {
     "data": {
      "text/plain": [
       "candidate\n",
       "Buttigieg      564.0124\n",
       "Sanders        562.4973\n",
       "Warren         387.0687\n",
       "Biden          341.1716\n",
       "Klobuchar      264.2038\n",
       "Yang            22.2226\n",
       "Steyer           6.7389\n",
       "Uncommitted      3.9571\n",
       "Other            0.6931\n",
       "Bloomberg        0.2096\n",
       "Gabbard          0.1143\n",
       "Patrick          0.0000\n",
       "Delaney          0.0000\n",
       "Bennet           0.0000\n",
       "dtype: float64"
      ]
     },
     "execution_count": 82,
     "metadata": {},
     "output_type": "execute_result"
    }
   ],
   "source": [
    "ia.sdes"
   ]
  },
  {
   "cell_type": "code",
   "execution_count": 245,
   "metadata": {},
   "outputs": [
    {
     "data": {
      "text/plain": [
       "323"
      ]
     },
     "execution_count": 245,
     "metadata": {},
     "output_type": "execute_result"
    }
   ],
   "source": [
    "ia.viability_threshold(ia.sdes.sum())"
   ]
  },
  {
   "cell_type": "code",
   "execution_count": 246,
   "metadata": {},
   "outputs": [
    {
     "data": {
      "text/plain": [
       "candidate\n",
       "Buttigieg    564.3024\n",
       "Sanders      561.5283\n",
       "Warren       388.4803\n",
       "Biden        339.6782\n",
       "dtype: float64"
      ]
     },
     "execution_count": 246,
     "metadata": {},
     "output_type": "execute_result"
    }
   ],
   "source": [
    "ia.viable_sdes"
   ]
  },
  {
   "cell_type": "markdown",
   "metadata": {},
   "source": [
    "State-level delegates are allocated by the state-wide SDE percentage breakdown among the viable candidates."
   ]
  },
  {
   "cell_type": "code",
   "execution_count": 247,
   "metadata": {},
   "outputs": [
    {
     "data": {
      "text/plain": [
       "candidate\n",
       "Buttigieg    30.437200\n",
       "Sanders      30.287571\n",
       "Warren       20.953752\n",
       "Biden        18.321477\n",
       "dtype: float64"
      ]
     },
     "execution_count": 247,
     "metadata": {},
     "output_type": "execute_result"
    }
   ],
   "source": [
    "ia.viable_sdes / ia.viable_sdes.sum() * 100"
   ]
  },
  {
   "cell_type": "markdown",
   "metadata": {},
   "source": [
    "The 5 PLEO delegates are allocated separately from the 9 at-large delegates."
   ]
  },
  {
   "cell_type": "code",
   "execution_count": 251,
   "metadata": {},
   "outputs": [
    {
     "data": {
      "text/html": [
       "<div>\n",
       "<style scoped>\n",
       "    .dataframe tbody tr th:only-of-type {\n",
       "        vertical-align: middle;\n",
       "    }\n",
       "\n",
       "    .dataframe tbody tr th {\n",
       "        vertical-align: top;\n",
       "    }\n",
       "\n",
       "    .dataframe thead th {\n",
       "        text-align: right;\n",
       "    }\n",
       "</style>\n",
       "<table border=\"1\" class=\"dataframe\">\n",
       "  <thead>\n",
       "    <tr style=\"text-align: right;\">\n",
       "      <th></th>\n",
       "      <th>%</th>\n",
       "      <th>PLEO Delegates (unrounded)</th>\n",
       "      <th>PLEO Delegates</th>\n",
       "      <th>At-Large Delegates (unrounded)</th>\n",
       "      <th>At-Large Delegates</th>\n",
       "      <th>Delegates</th>\n",
       "    </tr>\n",
       "    <tr>\n",
       "      <th>candidate</th>\n",
       "      <th></th>\n",
       "      <th></th>\n",
       "      <th></th>\n",
       "      <th></th>\n",
       "      <th></th>\n",
       "      <th></th>\n",
       "    </tr>\n",
       "  </thead>\n",
       "  <tbody>\n",
       "    <tr>\n",
       "      <th>Buttigieg</th>\n",
       "      <td>30.437200</td>\n",
       "      <td>1.521860</td>\n",
       "      <td>2</td>\n",
       "      <td>2.739348</td>\n",
       "      <td>3</td>\n",
       "      <td>5</td>\n",
       "    </tr>\n",
       "    <tr>\n",
       "      <th>Sanders</th>\n",
       "      <td>30.287571</td>\n",
       "      <td>1.514379</td>\n",
       "      <td>1</td>\n",
       "      <td>2.725881</td>\n",
       "      <td>3</td>\n",
       "      <td>4</td>\n",
       "    </tr>\n",
       "    <tr>\n",
       "      <th>Warren</th>\n",
       "      <td>20.953752</td>\n",
       "      <td>1.047688</td>\n",
       "      <td>1</td>\n",
       "      <td>1.885838</td>\n",
       "      <td>2</td>\n",
       "      <td>3</td>\n",
       "    </tr>\n",
       "    <tr>\n",
       "      <th>Biden</th>\n",
       "      <td>18.321477</td>\n",
       "      <td>0.916074</td>\n",
       "      <td>1</td>\n",
       "      <td>1.648933</td>\n",
       "      <td>1</td>\n",
       "      <td>2</td>\n",
       "    </tr>\n",
       "  </tbody>\n",
       "</table>\n",
       "</div>"
      ],
      "text/plain": [
       "                   %  PLEO Delegates (unrounded)  PLEO Delegates  \\\n",
       "candidate                                                          \n",
       "Buttigieg  30.437200                    1.521860               2   \n",
       "Sanders    30.287571                    1.514379               1   \n",
       "Warren     20.953752                    1.047688               1   \n",
       "Biden      18.321477                    0.916074               1   \n",
       "\n",
       "           At-Large Delegates (unrounded)  At-Large Delegates  Delegates  \n",
       "candidate                                                                 \n",
       "Buttigieg                        2.739348                   3          5  \n",
       "Sanders                          2.725881                   3          4  \n",
       "Warren                           1.885838                   2          3  \n",
       "Biden                            1.648933                   1          2  "
      ]
     },
     "execution_count": 251,
     "metadata": {},
     "output_type": "execute_result"
    }
   ],
   "source": [
    "ia.display_state_dels()"
   ]
  },
  {
   "cell_type": "markdown",
   "metadata": {},
   "source": [
    "The result is that Buttigieg gets 5 state-wide delegates, Sanders 4, Warren 3, and Biden 2."
   ]
  },
  {
   "cell_type": "code",
   "execution_count": 252,
   "metadata": {},
   "outputs": [
    {
     "data": {
      "text/plain": [
       "candidate\n",
       "Buttigieg    5\n",
       "Sanders      4\n",
       "Warren       3\n",
       "Biden        2\n",
       "Name: Delegates, dtype: int64"
      ]
     },
     "execution_count": 252,
     "metadata": {},
     "output_type": "execute_result"
    }
   ],
   "source": [
    "ia.state_dels"
   ]
  },
  {
   "cell_type": "markdown",
   "metadata": {},
   "source": [
    "### District-level delegates"
   ]
  },
  {
   "cell_type": "markdown",
   "metadata": {},
   "source": [
    "Iowa is allocated 27 district-level delegates and 4 district-level alternates. District-level delegates and alternates shall be allocated to presidential preference\n",
    "groups through a proportional representation system based on precinct caucuses and in-state satellite caucuses and will be elected by preference group delegations\n",
    "at the district convention. The national convention delegates elected at the district level shall be allocated in proportion to the percentage of the state delegate equivalents won in that district by each preference at the first determining step, except that preferences falling below a 15% threshold shall not be awarded any\n",
    "delegates or alternates \\[That means the district-level delegates are allocated by the precinct caucus percentages\\].  Delegates in groups that are declared not viable shall have a reasonable time, as determined by the rules adopted by the convention, in which to realign with a viable preference groupy  \\[They are allowed to vote to choose the delegate but realignment does not change the allocation of delegates\\].\n",
    "\n",
    "At the time of registration, delegates must align with the same preference group that elected them at the county convention or selected them by virtue of the\n",
    "satellite caucus. For purposes of this section any presidential preference group or uncommitted which failed to obtain 15% of the total number of delegates from the caucuses shall be declared nonviable. Only delegates in groups that are declared not viable shall have a reasonable time, as determined by the rules adopted by the state convention, in which to realign with a viable preference group. \n",
    "\n",
    "From the national rules: States shall allocate district-level delegates and alternates in proportion to the percentage of the primary or caucus vote\n",
    "won in that district by each preference, except that preferences falling below a fifteen percent (15%) threshold shall not be awarded any delegates. No state shall have a threshold above or below fifteen percent (15%) (excepting: In all situations where no preference reaches the applicable threshold, the threshold shall be half the percentage of the vote received at each level of the delegate selection process by the front-runner). States which use a caucus/convention system, shall specify in their Delegate Selection Plans the caucus level at which such percentages shall be determined."
   ]
  },
  {
   "cell_type": "markdown",
   "metadata": {},
   "source": [
    "There are 102 counties and 4 district satellite caucuses in Iowa."
   ]
  },
  {
   "cell_type": "code",
   "execution_count": 89,
   "metadata": {},
   "outputs": [
    {
     "data": {
      "text/html": [
       "<div>\n",
       "<style scoped>\n",
       "    .dataframe tbody tr th:only-of-type {\n",
       "        vertical-align: middle;\n",
       "    }\n",
       "\n",
       "    .dataframe tbody tr th {\n",
       "        vertical-align: top;\n",
       "    }\n",
       "\n",
       "    .dataframe thead th {\n",
       "        text-align: right;\n",
       "    }\n",
       "</style>\n",
       "<table border=\"1\" class=\"dataframe\">\n",
       "  <thead>\n",
       "    <tr style=\"text-align: right;\">\n",
       "      <th></th>\n",
       "      <th>COUNTY</th>\n",
       "      <th>DISTRICT</th>\n",
       "      <th>POPULATION</th>\n",
       "    </tr>\n",
       "  </thead>\n",
       "  <tbody>\n",
       "    <tr>\n",
       "      <th>0</th>\n",
       "      <td>Allamakee</td>\n",
       "      <td>1.0</td>\n",
       "      <td>14,330</td>\n",
       "    </tr>\n",
       "    <tr>\n",
       "      <th>1</th>\n",
       "      <td>Benton</td>\n",
       "      <td>1.0</td>\n",
       "      <td>26,076</td>\n",
       "    </tr>\n",
       "    <tr>\n",
       "      <th>2</th>\n",
       "      <td>Black Hawk</td>\n",
       "      <td>1.0</td>\n",
       "      <td>131,090</td>\n",
       "    </tr>\n",
       "    <tr>\n",
       "      <th>3</th>\n",
       "      <td>Bremer</td>\n",
       "      <td>1.0</td>\n",
       "      <td>24,276</td>\n",
       "    </tr>\n",
       "    <tr>\n",
       "      <th>4</th>\n",
       "      <td>Buchanan</td>\n",
       "      <td>1.0</td>\n",
       "      <td>20,958</td>\n",
       "    </tr>\n",
       "    <tr>\n",
       "      <th>...</th>\n",
       "      <td>...</td>\n",
       "      <td>...</td>\n",
       "      <td>...</td>\n",
       "    </tr>\n",
       "    <tr>\n",
       "      <th>102</th>\n",
       "      <td>Wright</td>\n",
       "      <td>4.0</td>\n",
       "      <td>13,229</td>\n",
       "    </tr>\n",
       "    <tr>\n",
       "      <th>103</th>\n",
       "      <td>CD1 Satellite</td>\n",
       "      <td>1.0</td>\n",
       "      <td>0</td>\n",
       "    </tr>\n",
       "    <tr>\n",
       "      <th>104</th>\n",
       "      <td>CD2 Satellite</td>\n",
       "      <td>2.0</td>\n",
       "      <td>0</td>\n",
       "    </tr>\n",
       "    <tr>\n",
       "      <th>105</th>\n",
       "      <td>CD3 Satellite</td>\n",
       "      <td>3.0</td>\n",
       "      <td>0</td>\n",
       "    </tr>\n",
       "    <tr>\n",
       "      <th>106</th>\n",
       "      <td>CD4 Satellite</td>\n",
       "      <td>4.0</td>\n",
       "      <td>0</td>\n",
       "    </tr>\n",
       "  </tbody>\n",
       "</table>\n",
       "<p>107 rows × 3 columns</p>\n",
       "</div>"
      ],
      "text/plain": [
       "            COUNTY  DISTRICT POPULATION\n",
       "0        Allamakee       1.0     14,330\n",
       "1           Benton       1.0     26,076\n",
       "2       Black Hawk       1.0    131,090\n",
       "3           Bremer       1.0     24,276\n",
       "4         Buchanan       1.0     20,958\n",
       "..             ...       ...        ...\n",
       "102         Wright       4.0     13,229\n",
       "103  CD1 Satellite       1.0          0\n",
       "104  CD2 Satellite       2.0          0\n",
       "105  CD3 Satellite       3.0          0\n",
       "106  CD4 Satellite       4.0          0\n",
       "\n",
       "[107 rows x 3 columns]"
      ]
     },
     "execution_count": 89,
     "metadata": {},
     "output_type": "execute_result"
    }
   ],
   "source": [
    "ia.counties"
   ]
  },
  {
   "cell_type": "code",
   "execution_count": 190,
   "metadata": {},
   "outputs": [
    {
     "data": {
      "text/plain": [
       "DISTRICT\n",
       "1.0    21\n",
       "2.0    25\n",
       "3.0    17\n",
       "4.0    40\n",
       "Name: COUNTY, dtype: int64"
      ]
     },
     "execution_count": 190,
     "metadata": {},
     "output_type": "execute_result"
    }
   ],
   "source": [
    "ia.counties.groupby('DISTRICT').count().COUNTY"
   ]
  },
  {
   "cell_type": "markdown",
   "metadata": {},
   "source": [
    "The candidate delegates chosen at the precinct caucuses going to each of the four district conventions:"
   ]
  },
  {
   "cell_type": "code",
   "execution_count": 253,
   "metadata": {},
   "outputs": [
    {
     "data": {
      "text/html": [
       "<div>\n",
       "<style scoped>\n",
       "    .dataframe tbody tr th:only-of-type {\n",
       "        vertical-align: middle;\n",
       "    }\n",
       "\n",
       "    .dataframe tbody tr th {\n",
       "        vertical-align: top;\n",
       "    }\n",
       "\n",
       "    .dataframe thead th {\n",
       "        text-align: right;\n",
       "    }\n",
       "</style>\n",
       "<table border=\"1\" class=\"dataframe\">\n",
       "  <thead>\n",
       "    <tr style=\"text-align: right;\">\n",
       "      <th></th>\n",
       "      <th>1</th>\n",
       "      <th>2</th>\n",
       "      <th>3</th>\n",
       "      <th>4</th>\n",
       "    </tr>\n",
       "    <tr>\n",
       "      <th>candidate</th>\n",
       "      <th></th>\n",
       "      <th></th>\n",
       "      <th></th>\n",
       "      <th></th>\n",
       "    </tr>\n",
       "  </thead>\n",
       "  <tbody>\n",
       "    <tr>\n",
       "      <th>Buttigieg</th>\n",
       "      <td>148.6900</td>\n",
       "      <td>143.3744</td>\n",
       "      <td>164.3639</td>\n",
       "      <td>107.1030</td>\n",
       "    </tr>\n",
       "    <tr>\n",
       "      <th>Sanders</th>\n",
       "      <td>145.6565</td>\n",
       "      <td>157.6627</td>\n",
       "      <td>157.8390</td>\n",
       "      <td>99.8063</td>\n",
       "    </tr>\n",
       "    <tr>\n",
       "      <th>Biden</th>\n",
       "      <td>101.9733</td>\n",
       "      <td>72.9128</td>\n",
       "      <td>92.7255</td>\n",
       "      <td>71.3600</td>\n",
       "    </tr>\n",
       "    <tr>\n",
       "      <th>Warren</th>\n",
       "      <td>95.0184</td>\n",
       "      <td>112.6642</td>\n",
       "      <td>120.0298</td>\n",
       "      <td>59.8890</td>\n",
       "    </tr>\n",
       "    <tr>\n",
       "      <th>Klobuchar</th>\n",
       "      <td>67.1301</td>\n",
       "      <td>58.4335</td>\n",
       "      <td>70.1890</td>\n",
       "      <td>67.0645</td>\n",
       "    </tr>\n",
       "    <tr>\n",
       "      <th>Yang</th>\n",
       "      <td>4.2116</td>\n",
       "      <td>7.9320</td>\n",
       "      <td>3.8020</td>\n",
       "      <td>5.8887</td>\n",
       "    </tr>\n",
       "    <tr>\n",
       "      <th>Steyer</th>\n",
       "      <td>2.3327</td>\n",
       "      <td>0.7516</td>\n",
       "      <td>0.7567</td>\n",
       "      <td>2.7779</td>\n",
       "    </tr>\n",
       "    <tr>\n",
       "      <th>Uncommitted</th>\n",
       "      <td>1.6541</td>\n",
       "      <td>0.2672</td>\n",
       "      <td>0.8394</td>\n",
       "      <td>0.9714</td>\n",
       "    </tr>\n",
       "    <tr>\n",
       "      <th>Bennet</th>\n",
       "      <td>0.0000</td>\n",
       "      <td>0.0000</td>\n",
       "      <td>0.0000</td>\n",
       "      <td>0.0000</td>\n",
       "    </tr>\n",
       "    <tr>\n",
       "      <th>Bloomberg</th>\n",
       "      <td>0.0000</td>\n",
       "      <td>0.0000</td>\n",
       "      <td>0.0000</td>\n",
       "      <td>0.1759</td>\n",
       "    </tr>\n",
       "    <tr>\n",
       "      <th>Delaney</th>\n",
       "      <td>0.0000</td>\n",
       "      <td>0.0000</td>\n",
       "      <td>0.0000</td>\n",
       "      <td>0.0000</td>\n",
       "    </tr>\n",
       "    <tr>\n",
       "      <th>Gabbard</th>\n",
       "      <td>0.0000</td>\n",
       "      <td>0.1143</td>\n",
       "      <td>0.0000</td>\n",
       "      <td>0.0000</td>\n",
       "    </tr>\n",
       "    <tr>\n",
       "      <th>Other</th>\n",
       "      <td>0.0000</td>\n",
       "      <td>0.4133</td>\n",
       "      <td>0.2798</td>\n",
       "      <td>0.0000</td>\n",
       "    </tr>\n",
       "    <tr>\n",
       "      <th>Patrick</th>\n",
       "      <td>0.0000</td>\n",
       "      <td>0.0000</td>\n",
       "      <td>0.0000</td>\n",
       "      <td>0.0000</td>\n",
       "    </tr>\n",
       "  </tbody>\n",
       "</table>\n",
       "</div>"
      ],
      "text/plain": [
       "                    1         2         3         4\n",
       "candidate                                          \n",
       "Buttigieg    148.6900  143.3744  164.3639  107.1030\n",
       "Sanders      145.6565  157.6627  157.8390   99.8063\n",
       "Biden        101.9733   72.9128   92.7255   71.3600\n",
       "Warren        95.0184  112.6642  120.0298   59.8890\n",
       "Klobuchar     67.1301   58.4335   70.1890   67.0645\n",
       "Yang           4.2116    7.9320    3.8020    5.8887\n",
       "Steyer         2.3327    0.7516    0.7567    2.7779\n",
       "Uncommitted    1.6541    0.2672    0.8394    0.9714\n",
       "Bennet         0.0000    0.0000    0.0000    0.0000\n",
       "Bloomberg      0.0000    0.0000    0.0000    0.1759\n",
       "Delaney        0.0000    0.0000    0.0000    0.0000\n",
       "Gabbard        0.0000    0.1143    0.0000    0.0000\n",
       "Other          0.0000    0.4133    0.2798    0.0000\n",
       "Patrick        0.0000    0.0000    0.0000    0.0000"
      ]
     },
     "execution_count": 253,
     "metadata": {},
     "output_type": "execute_result"
    }
   ],
   "source": [
    "ia.display_dist_sdes(rounding=False)"
   ]
  },
  {
   "cell_type": "markdown",
   "metadata": {},
   "source": [
    "Each district has a different viability threshold"
   ]
  },
  {
   "cell_type": "code",
   "execution_count": 212,
   "metadata": {},
   "outputs": [
    {
     "data": {
      "text/plain": [
       "1    85\n",
       "2    84\n",
       "3    92\n",
       "4    63\n",
       "dtype: int64"
      ]
     },
     "execution_count": 212,
     "metadata": {},
     "output_type": "execute_result"
    }
   ],
   "source": [
    "ia.display_dist_sdes(rounding=False).sum(axis=0).apply(ia.viability_threshold)"
   ]
  },
  {
   "cell_type": "markdown",
   "metadata": {},
   "source": [
    "Looking only at the viable candidates for each district:"
   ]
  },
  {
   "cell_type": "code",
   "execution_count": 35,
   "metadata": {},
   "outputs": [
    {
     "data": {
      "text/html": [
       "<div>\n",
       "<style scoped>\n",
       "    .dataframe tbody tr th:only-of-type {\n",
       "        vertical-align: middle;\n",
       "    }\n",
       "\n",
       "    .dataframe tbody tr th {\n",
       "        vertical-align: top;\n",
       "    }\n",
       "\n",
       "    .dataframe thead th {\n",
       "        text-align: right;\n",
       "    }\n",
       "</style>\n",
       "<table border=\"1\" class=\"dataframe\">\n",
       "  <thead>\n",
       "    <tr style=\"text-align: right;\">\n",
       "      <th></th>\n",
       "      <th>1</th>\n",
       "      <th>2</th>\n",
       "      <th>3</th>\n",
       "      <th>4</th>\n",
       "    </tr>\n",
       "  </thead>\n",
       "  <tbody>\n",
       "    <tr>\n",
       "      <th>Buttigieg</th>\n",
       "      <td>148.6900</td>\n",
       "      <td>143.3744</td>\n",
       "      <td>164.3639</td>\n",
       "      <td>107.1030</td>\n",
       "    </tr>\n",
       "    <tr>\n",
       "      <th>Sanders</th>\n",
       "      <td>145.6565</td>\n",
       "      <td>157.6627</td>\n",
       "      <td>157.8390</td>\n",
       "      <td>99.8063</td>\n",
       "    </tr>\n",
       "    <tr>\n",
       "      <th>Biden</th>\n",
       "      <td>101.9733</td>\n",
       "      <td>NaN</td>\n",
       "      <td>92.7255</td>\n",
       "      <td>71.3600</td>\n",
       "    </tr>\n",
       "    <tr>\n",
       "      <th>Warren</th>\n",
       "      <td>95.0184</td>\n",
       "      <td>112.6642</td>\n",
       "      <td>120.0298</td>\n",
       "      <td>NaN</td>\n",
       "    </tr>\n",
       "    <tr>\n",
       "      <th>Klobuchar</th>\n",
       "      <td>NaN</td>\n",
       "      <td>NaN</td>\n",
       "      <td>NaN</td>\n",
       "      <td>67.0645</td>\n",
       "    </tr>\n",
       "  </tbody>\n",
       "</table>\n",
       "</div>"
      ],
      "text/plain": [
       "                  1         2         3         4\n",
       "Buttigieg  148.6900  143.3744  164.3639  107.1030\n",
       "Sanders    145.6565  157.6627  157.8390   99.8063\n",
       "Biden      101.9733       NaN   92.7255   71.3600\n",
       "Warren      95.0184  112.6642  120.0298       NaN\n",
       "Klobuchar       NaN       NaN       NaN   67.0645"
      ]
     },
     "execution_count": 35,
     "metadata": {},
     "output_type": "execute_result"
    }
   ],
   "source": [
    "ia.display_dist_sdes(rounding=False, viable=True)"
   ]
  },
  {
   "cell_type": "markdown",
   "metadata": {},
   "source": [
    "As percentages:"
   ]
  },
  {
   "cell_type": "code",
   "execution_count": 36,
   "metadata": {},
   "outputs": [
    {
     "data": {
      "text/html": [
       "<div>\n",
       "<style scoped>\n",
       "    .dataframe tbody tr th:only-of-type {\n",
       "        vertical-align: middle;\n",
       "    }\n",
       "\n",
       "    .dataframe tbody tr th {\n",
       "        vertical-align: top;\n",
       "    }\n",
       "\n",
       "    .dataframe thead th {\n",
       "        text-align: right;\n",
       "    }\n",
       "</style>\n",
       "<table border=\"1\" class=\"dataframe\">\n",
       "  <thead>\n",
       "    <tr style=\"text-align: right;\">\n",
       "      <th></th>\n",
       "      <th>1</th>\n",
       "      <th>2</th>\n",
       "      <th>3</th>\n",
       "      <th>4</th>\n",
       "    </tr>\n",
       "  </thead>\n",
       "  <tbody>\n",
       "    <tr>\n",
       "      <th>Buttigieg</th>\n",
       "      <td>30.262251</td>\n",
       "      <td>34.656502</td>\n",
       "      <td>30.724625</td>\n",
       "      <td>31.014340</td>\n",
       "    </tr>\n",
       "    <tr>\n",
       "      <th>Sanders</th>\n",
       "      <td>29.644856</td>\n",
       "      <td>38.110274</td>\n",
       "      <td>29.504922</td>\n",
       "      <td>28.901399</td>\n",
       "    </tr>\n",
       "    <tr>\n",
       "      <th>Biden</th>\n",
       "      <td>20.754197</td>\n",
       "      <td>NaN</td>\n",
       "      <td>17.333223</td>\n",
       "      <td>20.664065</td>\n",
       "    </tr>\n",
       "    <tr>\n",
       "      <th>Warren</th>\n",
       "      <td>19.338696</td>\n",
       "      <td>27.233224</td>\n",
       "      <td>22.437230</td>\n",
       "      <td>NaN</td>\n",
       "    </tr>\n",
       "    <tr>\n",
       "      <th>Klobuchar</th>\n",
       "      <td>NaN</td>\n",
       "      <td>NaN</td>\n",
       "      <td>NaN</td>\n",
       "      <td>19.420196</td>\n",
       "    </tr>\n",
       "  </tbody>\n",
       "</table>\n",
       "</div>"
      ],
      "text/plain": [
       "                   1          2          3          4\n",
       "Buttigieg  30.262251  34.656502  30.724625  31.014340\n",
       "Sanders    29.644856  38.110274  29.504922  28.901399\n",
       "Biden      20.754197        NaN  17.333223  20.664065\n",
       "Warren     19.338696  27.233224  22.437230        NaN\n",
       "Klobuchar        NaN        NaN        NaN  19.420196"
      ]
     },
     "execution_count": 36,
     "metadata": {},
     "output_type": "execute_result"
    }
   ],
   "source": [
    "ia.display_dist_sdes(rounding=False, viable=True) / ia.display_dist_sdes(rounding=False, viable=True).sum() * 100"
   ]
  },
  {
   "cell_type": "markdown",
   "metadata": {},
   "source": [
    "Here are the numbers of delegates each congressional district sends to the National Convention:"
   ]
  },
  {
   "cell_type": "code",
   "execution_count": 37,
   "metadata": {},
   "outputs": [
    {
     "data": {
      "text/plain": [
       "0    1\n",
       "1    2\n",
       "2    3\n",
       "3    4\n",
       "Name: District, dtype: int64"
      ]
     },
     "execution_count": 37,
     "metadata": {},
     "output_type": "execute_result"
    }
   ],
   "source": [
    "ia.dist_del_count.District"
   ]
  },
  {
   "cell_type": "code",
   "execution_count": 41,
   "metadata": {},
   "outputs": [
    {
     "data": {
      "text/html": [
       "<div>\n",
       "<style scoped>\n",
       "    .dataframe tbody tr th:only-of-type {\n",
       "        vertical-align: middle;\n",
       "    }\n",
       "\n",
       "    .dataframe tbody tr th {\n",
       "        vertical-align: top;\n",
       "    }\n",
       "\n",
       "    .dataframe thead th {\n",
       "        text-align: right;\n",
       "    }\n",
       "</style>\n",
       "<table border=\"1\" class=\"dataframe\">\n",
       "  <thead>\n",
       "    <tr style=\"text-align: right;\">\n",
       "      <th></th>\n",
       "      <th>1</th>\n",
       "      <th>2</th>\n",
       "      <th>3</th>\n",
       "      <th>4</th>\n",
       "    </tr>\n",
       "  </thead>\n",
       "  <tbody>\n",
       "    <tr>\n",
       "      <th>Buttigieg</th>\n",
       "      <td>2</td>\n",
       "      <td>2</td>\n",
       "      <td>3</td>\n",
       "      <td>2</td>\n",
       "    </tr>\n",
       "    <tr>\n",
       "      <th>Sanders</th>\n",
       "      <td>2</td>\n",
       "      <td>3</td>\n",
       "      <td>2</td>\n",
       "      <td>1</td>\n",
       "    </tr>\n",
       "    <tr>\n",
       "      <th>Biden</th>\n",
       "      <td>2</td>\n",
       "      <td>0</td>\n",
       "      <td>1</td>\n",
       "      <td>1</td>\n",
       "    </tr>\n",
       "    <tr>\n",
       "      <th>Warren</th>\n",
       "      <td>1</td>\n",
       "      <td>2</td>\n",
       "      <td>2</td>\n",
       "      <td>0</td>\n",
       "    </tr>\n",
       "    <tr>\n",
       "      <th>Klobuchar</th>\n",
       "      <td>0</td>\n",
       "      <td>0</td>\n",
       "      <td>0</td>\n",
       "      <td>1</td>\n",
       "    </tr>\n",
       "  </tbody>\n",
       "</table>\n",
       "</div>"
      ],
      "text/plain": [
       "           1  2  3  4\n",
       "Buttigieg  2  2  3  2\n",
       "Sanders    2  3  2  1\n",
       "Biden      2  0  1  1\n",
       "Warren     1  2  2  0\n",
       "Klobuchar  0  0  0  1"
      ]
     },
     "execution_count": 41,
     "metadata": {},
     "output_type": "execute_result"
    }
   ],
   "source": [
    "ia.dist_dels"
   ]
  },
  {
   "cell_type": "markdown",
   "metadata": {},
   "source": [
    "Allocating the delegates:"
   ]
  },
  {
   "cell_type": "code",
   "execution_count": 44,
   "metadata": {},
   "outputs": [
    {
     "data": {
      "text/html": [
       "<div>\n",
       "<style scoped>\n",
       "    .dataframe tbody tr th:only-of-type {\n",
       "        vertical-align: middle;\n",
       "    }\n",
       "\n",
       "    .dataframe tbody tr th {\n",
       "        vertical-align: top;\n",
       "    }\n",
       "\n",
       "    .dataframe thead th {\n",
       "        text-align: right;\n",
       "    }\n",
       "</style>\n",
       "<table border=\"1\" class=\"dataframe\">\n",
       "  <thead>\n",
       "    <tr style=\"text-align: right;\">\n",
       "      <th></th>\n",
       "      <th>1</th>\n",
       "      <th>2</th>\n",
       "      <th>3</th>\n",
       "      <th>4</th>\n",
       "      <th>Total</th>\n",
       "    </tr>\n",
       "  </thead>\n",
       "  <tbody>\n",
       "    <tr>\n",
       "      <th>Buttigieg</th>\n",
       "      <td>2</td>\n",
       "      <td>2</td>\n",
       "      <td>3</td>\n",
       "      <td>2</td>\n",
       "      <td>9</td>\n",
       "    </tr>\n",
       "    <tr>\n",
       "      <th>Sanders</th>\n",
       "      <td>2</td>\n",
       "      <td>3</td>\n",
       "      <td>2</td>\n",
       "      <td>1</td>\n",
       "      <td>8</td>\n",
       "    </tr>\n",
       "    <tr>\n",
       "      <th>Biden</th>\n",
       "      <td>2</td>\n",
       "      <td>0</td>\n",
       "      <td>1</td>\n",
       "      <td>1</td>\n",
       "      <td>4</td>\n",
       "    </tr>\n",
       "    <tr>\n",
       "      <th>Warren</th>\n",
       "      <td>1</td>\n",
       "      <td>2</td>\n",
       "      <td>2</td>\n",
       "      <td>0</td>\n",
       "      <td>5</td>\n",
       "    </tr>\n",
       "    <tr>\n",
       "      <th>Klobuchar</th>\n",
       "      <td>0</td>\n",
       "      <td>0</td>\n",
       "      <td>0</td>\n",
       "      <td>1</td>\n",
       "      <td>1</td>\n",
       "    </tr>\n",
       "  </tbody>\n",
       "</table>\n",
       "</div>"
      ],
      "text/plain": [
       "           1  2  3  4  Total\n",
       "Buttigieg  2  2  3  2      9\n",
       "Sanders    2  3  2  1      8\n",
       "Biden      2  0  1  1      4\n",
       "Warren     1  2  2  0      5\n",
       "Klobuchar  0  0  0  1      1"
      ]
     },
     "execution_count": 44,
     "metadata": {},
     "output_type": "execute_result"
    }
   ],
   "source": [
    "ia.display_dist_dels()"
   ]
  },
  {
   "cell_type": "markdown",
   "metadata": {},
   "source": [
    "## Final Results"
   ]
  },
  {
   "cell_type": "code",
   "execution_count": 73,
   "metadata": {},
   "outputs": [
    {
     "data": {
      "text/html": [
       "<div>\n",
       "<style scoped>\n",
       "    .dataframe tbody tr th:only-of-type {\n",
       "        vertical-align: middle;\n",
       "    }\n",
       "\n",
       "    .dataframe tbody tr th {\n",
       "        vertical-align: top;\n",
       "    }\n",
       "\n",
       "    .dataframe thead th {\n",
       "        text-align: right;\n",
       "    }\n",
       "</style>\n",
       "<table border=\"1\" class=\"dataframe\">\n",
       "  <thead>\n",
       "    <tr style=\"text-align: right;\">\n",
       "      <th></th>\n",
       "      <th>%</th>\n",
       "      <th>PLEO Delegates (unrounded)</th>\n",
       "      <th>PLEO Delegates</th>\n",
       "      <th>At-Large Delegates (unrounded)</th>\n",
       "      <th>At-Large Delegates</th>\n",
       "      <th>State-Level Delegates</th>\n",
       "      <th>1</th>\n",
       "      <th>2</th>\n",
       "      <th>3</th>\n",
       "      <th>4</th>\n",
       "      <th>District Delegates</th>\n",
       "      <th>Total</th>\n",
       "    </tr>\n",
       "    <tr>\n",
       "      <th>candidate</th>\n",
       "      <th></th>\n",
       "      <th></th>\n",
       "      <th></th>\n",
       "      <th></th>\n",
       "      <th></th>\n",
       "      <th></th>\n",
       "      <th></th>\n",
       "      <th></th>\n",
       "      <th></th>\n",
       "      <th></th>\n",
       "      <th></th>\n",
       "      <th></th>\n",
       "    </tr>\n",
       "  </thead>\n",
       "  <tbody>\n",
       "    <tr>\n",
       "      <th>Buttigieg</th>\n",
       "      <td>30.437200</td>\n",
       "      <td>1.521860</td>\n",
       "      <td>2</td>\n",
       "      <td>2.739348</td>\n",
       "      <td>3</td>\n",
       "      <td>5</td>\n",
       "      <td>2</td>\n",
       "      <td>2</td>\n",
       "      <td>3</td>\n",
       "      <td>2</td>\n",
       "      <td>9</td>\n",
       "      <td>14</td>\n",
       "    </tr>\n",
       "    <tr>\n",
       "      <th>Sanders</th>\n",
       "      <td>30.287571</td>\n",
       "      <td>1.514379</td>\n",
       "      <td>1</td>\n",
       "      <td>2.725881</td>\n",
       "      <td>3</td>\n",
       "      <td>4</td>\n",
       "      <td>2</td>\n",
       "      <td>3</td>\n",
       "      <td>2</td>\n",
       "      <td>1</td>\n",
       "      <td>8</td>\n",
       "      <td>12</td>\n",
       "    </tr>\n",
       "    <tr>\n",
       "      <th>Warren</th>\n",
       "      <td>20.953752</td>\n",
       "      <td>1.047688</td>\n",
       "      <td>1</td>\n",
       "      <td>1.885838</td>\n",
       "      <td>2</td>\n",
       "      <td>3</td>\n",
       "      <td>1</td>\n",
       "      <td>2</td>\n",
       "      <td>2</td>\n",
       "      <td>0</td>\n",
       "      <td>5</td>\n",
       "      <td>8</td>\n",
       "    </tr>\n",
       "    <tr>\n",
       "      <th>Biden</th>\n",
       "      <td>18.321477</td>\n",
       "      <td>0.916074</td>\n",
       "      <td>1</td>\n",
       "      <td>1.648933</td>\n",
       "      <td>1</td>\n",
       "      <td>2</td>\n",
       "      <td>2</td>\n",
       "      <td>0</td>\n",
       "      <td>1</td>\n",
       "      <td>1</td>\n",
       "      <td>4</td>\n",
       "      <td>6</td>\n",
       "    </tr>\n",
       "  </tbody>\n",
       "</table>\n",
       "</div>"
      ],
      "text/plain": [
       "                   %  PLEO Delegates (unrounded)  PLEO Delegates  \\\n",
       "candidate                                                          \n",
       "Buttigieg  30.437200                    1.521860               2   \n",
       "Sanders    30.287571                    1.514379               1   \n",
       "Warren     20.953752                    1.047688               1   \n",
       "Biden      18.321477                    0.916074               1   \n",
       "\n",
       "           At-Large Delegates (unrounded)  At-Large Delegates  \\\n",
       "candidate                                                       \n",
       "Buttigieg                        2.739348                   3   \n",
       "Sanders                          2.725881                   3   \n",
       "Warren                           1.885838                   2   \n",
       "Biden                            1.648933                   1   \n",
       "\n",
       "           State-Level Delegates  1  2  3  4  District Delegates  Total  \n",
       "candidate                                                                \n",
       "Buttigieg                      5  2  2  3  2                   9     14  \n",
       "Sanders                        4  2  3  2  1                   8     12  \n",
       "Warren                         3  1  2  2  0                   5      8  \n",
       "Biden                          2  2  0  1  1                   4      6  "
      ]
     },
     "execution_count": 73,
     "metadata": {},
     "output_type": "execute_result"
    }
   ],
   "source": [
    "ia.display_all_dels()"
   ]
  },
  {
   "cell_type": "code",
   "execution_count": 74,
   "metadata": {},
   "outputs": [
    {
     "data": {
      "text/plain": [
       "Buttigieg    14\n",
       "Sanders      12\n",
       "Warren        8\n",
       "Biden         6\n",
       "Klobuchar     1\n",
       "dtype: int64"
      ]
     },
     "execution_count": 74,
     "metadata": {},
     "output_type": "execute_result"
    }
   ],
   "source": [
    "ia.all_dels"
   ]
  }
 ],
 "metadata": {
  "kernelspec": {
   "display_name": "Python 3",
   "language": "python",
   "name": "python3"
  },
  "language_info": {
   "codemirror_mode": {
    "name": "ipython",
    "version": 3
   },
   "file_extension": ".py",
   "mimetype": "text/x-python",
   "name": "python",
   "nbconvert_exporter": "python",
   "pygments_lexer": "ipython3",
   "version": "3.7.3"
  }
 },
 "nbformat": 4,
 "nbformat_minor": 4
}
